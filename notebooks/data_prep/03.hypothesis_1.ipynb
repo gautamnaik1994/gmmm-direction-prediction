{
 "cells": [
  {
   "cell_type": "markdown",
   "id": "f9f11d10",
   "metadata": {},
   "source": [
    "# Hypothesis 1\n",
    "\n",
    "To check how many `today - n` days are required to accurately predict `today + x` days ahead and which combination of `n` and `x` yields the best results."
   ]
  },
  {
   "cell_type": "markdown",
   "id": "17cf1661",
   "metadata": {},
   "source": []
  }
 ],
 "metadata": {
  "kernelspec": {
   "display_name": "base",
   "language": "python",
   "name": "python3"
  },
  "language_info": {
   "codemirror_mode": {
    "name": "ipython",
    "version": 3
   },
   "file_extension": ".py",
   "mimetype": "text/x-python",
   "name": "python",
   "nbconvert_exporter": "python",
   "pygments_lexer": "ipython3",
   "version": "3.12.2"
  }
 },
 "nbformat": 4,
 "nbformat_minor": 5
}
